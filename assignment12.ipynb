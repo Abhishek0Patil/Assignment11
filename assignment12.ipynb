{
 "cells": [
  {
   "cell_type": "markdown",
   "id": "94d36ff8-d6ed-4118-8e67-9c1d4ad29770",
   "metadata": {},
   "source": [
    "Multithreading in Python refers to the concurrent execution of multiple threads within a single process.\n",
    "Multithreading is used in Python for several reasons:\n",
    "1.parallel execution\n",
    "2.responsiveness\n",
    "3.efficiency"
   ]
  },
  {
   "cell_type": "markdown",
   "id": "e6b2e6f5-8626-4ad2-920c-530f23ef537e",
   "metadata": {},
   "source": [
    "The threading module in Python is used for creating and managing threads in a multithreaded program. It provides a higher-level interface for working with threads than the lower-level thread module."
   ]
  },
  {
   "cell_type": "markdown",
   "id": "6f21de6c-2278-4295-8984-1f3a928cf326",
   "metadata": {},
   "source": [
    "activeCount():\n",
    "\n",
    "activeCount() is a method of the threading module, not a function.\n",
    "It returns the number of Thread objects currently alive. In other words, it provides the count of active threads in the current Python process."
   ]
  },
  {
   "cell_type": "code",
   "execution_count": 2,
   "id": "e24a236d-0028-4e57-b885-d811cacc1569",
   "metadata": {},
   "outputs": [
    {
     "name": "stdout",
     "output_type": "stream",
     "text": [
      "Thread 1\n",
      "Thread 2\n",
      "Active threads: 8\n"
     ]
    }
   ],
   "source": [
    "import threading\n",
    "\n",
    "thread1 = threading.Thread(target=lambda: print(\"Thread 1\"))\n",
    "thread2 = threading.Thread(target=lambda: print(\"Thread 2\"))\n",
    "thread1.start()\n",
    "thread2.start()\n",
    "\n",
    "num_active_threads = threading.active_count()\n",
    "print(f\"Active threads: {num_active_threads}\")"
   ]
  },
  {
   "cell_type": "markdown",
   "id": "fa7a5023-ae68-4edd-bfa7-8d90dcc12c9d",
   "metadata": {},
   "source": [
    "currentThread():\n",
    "\n",
    "currentThread() is a method of the threading module.\n",
    "It returns the Thread object representing the current thread that calls this method.\n",
    "This is often used to obtain information about the current thread, such as its name, identification number, or to manage thread-specific data."
   ]
  },
  {
   "cell_type": "code",
   "execution_count": 4,
   "id": "1d556837-effe-4285-99d2-0c81a9417350",
   "metadata": {},
   "outputs": [
    {
     "name": "stdout",
     "output_type": "stream",
     "text": [
      "Thread name: Thread 1\n",
      "Thread ID: 140341361481280\n"
     ]
    }
   ],
   "source": [
    "import threading\n",
    "\n",
    "def print_thread_info():\n",
    "    current_thread = threading.current_thread()\n",
    "    print(f\"Thread name: {current_thread.name}\")\n",
    "    print(f\"Thread ID: {current_thread.ident}\")\n",
    "\n",
    "thread1 = threading.Thread(target=print_thread_info, name=\"Thread 1\")\n",
    "thread1.start()"
   ]
  },
  {
   "cell_type": "markdown",
   "id": "4b0ef000-03a3-4a0d-8ecf-ee749a828a40",
   "metadata": {},
   "source": [
    "enumerate():\n",
    "\n",
    "enumerate() is a function within the threading module.\n",
    "It returns a list of all Thread objects currently alive.\n",
    "This function is useful when you want to access or manage all the threads that are currently active in your program."
   ]
  },
  {
   "cell_type": "code",
   "execution_count": 6,
   "id": "4660179d-dc2a-42dc-b801-45de01d53133",
   "metadata": {},
   "outputs": [
    {
     "name": "stdout",
     "output_type": "stream",
     "text": [
      "Thread Thread-12 (thread_function) is running.\n",
      "Thread Thread-13 (thread_function) is running.\n",
      "Thread Thread-14 (thread_function) is running.\n",
      "Active threads: [<_MainThread(MainThread, started 140341712226112)>, <Thread(IOPub, started daemon 140341641696832)>, <Heartbeat(Heartbeat, started daemon 140341633304128)>, <Thread(Thread-3 (_watch_pipe_fd), started daemon 140341403444800)>, <Thread(Thread-4 (_watch_pipe_fd), started daemon 140341395052096)>, <ControlThread(Control, started daemon 140341386659392)>, <HistorySavingThread(IPythonHistorySavingThread, started 140341378266688)>, <ParentPollerUnix(Thread-2, started daemon 140341369873984)>]\n"
     ]
    }
   ],
   "source": [
    "import threading\n",
    "\n",
    "def thread_function():\n",
    "    print(f\"Thread {threading.current_thread().name} is running.\")\n",
    "\n",
    "threads = []\n",
    "for i in range(3):\n",
    "    thread = threading.Thread(target=thread_function)\n",
    "    thread.start()\n",
    "    threads.append(thread)\n",
    "\n",
    "active_threads = threading.enumerate()\n",
    "\n",
    "for thread in threads:\n",
    "    thread.join()\n",
    "\n",
    "print(f\"Active threads: {active_threads}\")"
   ]
  },
  {
   "cell_type": "markdown",
   "id": "9d4d84f3-d56f-4cdf-a61a-13168a2c91dc",
   "metadata": {},
   "source": [
    "run():\n",
    "\n",
    "run() is not a function that you explicitly call. Instead, it's a method that you can override in your custom thread class by subclassing threading.Thread.\n",
    "When you create a custom thread class, you can define the behavior of the thread's execution by implementing the run() method within your subclass. The run() method contains the code that will be executed when the thread is started using the start() method."
   ]
  },
  {
   "cell_type": "code",
   "execution_count": 7,
   "id": "2c63feb5-f029-428f-8508-033621e81f2e",
   "metadata": {},
   "outputs": [
    {
     "name": "stdout",
     "output_type": "stream",
     "text": [
      "Thread is running\n"
     ]
    }
   ],
   "source": [
    "import threading\n",
    "\n",
    "class MyThread(threading.Thread):\n",
    "    def run(self):\n",
    "        print(\"Thread is running\")\n",
    "\n",
    "thread = MyThread()\n",
    "thread.start()"
   ]
  },
  {
   "cell_type": "markdown",
   "id": "7a85cd51-fa97-4b18-adbc-54021184249f",
   "metadata": {},
   "source": [
    "start():\n",
    "\n",
    "start() is a method of the Thread class in the threading module.\n",
    "It is used to begin the execution of the thread. When you call start(), it invokes the run() method of the thread, which contains the code you want to run in the thread.\n",
    "It is important to note that you should not call the run() method directly. Instead, always use start() to start a thread, as it sets up the necessary thread context and handles thread lifecycle management."
   ]
  },
  {
   "cell_type": "code",
   "execution_count": 8,
   "id": "cda9f09e-f59f-4f76-a69d-f3d4a768767b",
   "metadata": {},
   "outputs": [
    {
     "name": "stdout",
     "output_type": "stream",
     "text": [
      "Thread is running\n"
     ]
    }
   ],
   "source": [
    "import threading\n",
    "\n",
    "def thread_function():\n",
    "    print(\"Thread is running\")\n",
    "\n",
    "thread = threading.Thread(target=thread_function)\n",
    "thread.start()"
   ]
  },
  {
   "cell_type": "markdown",
   "id": "53525cd2-9510-492c-9dda-41512103e427",
   "metadata": {},
   "source": [
    "join():\n",
    "\n",
    "join() is a method of the Thread class.\n",
    "It is used to block the calling thread (usually the main thread) until the thread on which join() is called has finished execution. In other words, it waits for the thread to complete.\n",
    "This is often used to ensure that the main thread does not exit before the other threads have completed their work, allowing you to coordinate the execution of threads."
   ]
  },
  {
   "cell_type": "code",
   "execution_count": 9,
   "id": "47512dd0-e8a4-481a-81e2-e7897c23f676",
   "metadata": {},
   "outputs": [
    {
     "name": "stdout",
     "output_type": "stream",
     "text": [
      "Thread is running\n",
      "Main thread continues after the joined thread has finished\n"
     ]
    }
   ],
   "source": [
    "import threading\n",
    "\n",
    "def thread_function():\n",
    "    print(\"Thread is running\")\n",
    "\n",
    "thread = threading.Thread(target=thread_function)\n",
    "thread.start()\n",
    "thread.join()  \n",
    "print(\"Main thread continues after the joined thread has finished\")"
   ]
  },
  {
   "cell_type": "markdown",
   "id": "e8fc839d-13f5-4e9e-adbe-c66045723685",
   "metadata": {},
   "source": [
    "isAlive():\n",
    "\n",
    "isAlive() is a method of the Thread class.\n",
    "It returns True if the thread is currently executing (alive) and False if the thread has finished executing or has not yet started.\n",
    "You can use this method to check the status of a thread and determine whether it's still running or has completed."
   ]
  },
  {
   "cell_type": "code",
   "execution_count": 11,
   "id": "43fb34c6-e7f5-463d-ac5c-febdf2e78dd3",
   "metadata": {},
   "outputs": [
    {
     "name": "stdout",
     "output_type": "stream",
     "text": [
      "Thread is alive: True\n",
      "Thread is alive: False\n"
     ]
    }
   ],
   "source": [
    "import threading\n",
    "import time\n",
    "\n",
    "def thread_function():\n",
    "    time.sleep(2)\n",
    "\n",
    "thread = threading.Thread(target=thread_function)\n",
    "thread.start()\n",
    "print(\"Thread is alive:\", thread.is_alive())  \n",
    "thread.join()\n",
    "print(\"Thread is alive:\", thread.is_alive())"
   ]
  },
  {
   "cell_type": "code",
   "execution_count": 12,
   "id": "f8d60044-f86e-4822-b829-cfdb5c1cd8a4",
   "metadata": {},
   "outputs": [
    {
     "name": "stdout",
     "output_type": "stream",
     "text": [
      "Square of 1: 1\n",
      "Square of 2: 4\n",
      "Square of 3: 9\n",
      "Square of 4: 16\n",
      "Square of 5: 25\n",
      "Cube of 1: 1\n",
      "Cube of 2: 8\n",
      "Cube of 3: 27\n",
      "Cube of 4: 64\n",
      "Cube of 5: 125\n",
      "Both threads have finished\n"
     ]
    }
   ],
   "source": [
    "import threading\n",
    "\n",
    "def print_squares(numbers):\n",
    "    for num in numbers:\n",
    "        print(f\"Square of {num}: {num * num}\")\n",
    "\n",
    "def print_cubes(numbers):\n",
    "    for num in numbers:\n",
    "        print(f\"Cube of {num}: {num * num * num}\")\n",
    "\n",
    "if __name__ == \"__main__\":\n",
    "    numbers = [1, 2, 3, 4, 5]\n",
    "\n",
    "    square_thread = threading.Thread(target=print_squares, args=(numbers,))\n",
    "    cube_thread = threading.Thread(target=print_cubes, args=(numbers,))\n",
    "\n",
    "    square_thread.start()\n",
    "    cube_thread.start()\n",
    "    \n",
    "    square_thread.join()\n",
    "    cube_thread.join()\n",
    "\n",
    "    print(\"Both threads have finished\")"
   ]
  },
  {
   "cell_type": "markdown",
   "id": "2827f20a-f86a-4916-865a-5ea97de42a2d",
   "metadata": {},
   "source": [
    "Advantages of Multithreading:\n",
    "\n",
    "1.Improved Performance:\n",
    "2.Concurrency:\n",
    "3.Resource Sharing:\n",
    "4.Modularity and Responsiveness:\n",
    "\n",
    "Disadvantages of Multithreading:\n",
    "\n",
    "1.Complexity:\n",
    "2.Synchronization Overhead:\n",
    "3.Resource Competition:\n",
    "4.Debugging Challenges:\n",
    "5.Portability and Platform Dependency:"
   ]
  },
  {
   "cell_type": "markdown",
   "id": "a00484e5-686e-475b-bef8-3ea19f0ba8d4",
   "metadata": {},
   "source": [
    "Deadlock:\n",
    "\n",
    "A deadlock is a situation where two or more threads or processes are unable to proceed with their execution because each is waiting for the other(s) to release a resource. In other words, it's a circular waiting condition where threads are stuck, and none can make progress. A typical deadlock scenario involves the following four conditions:\n",
    "\n",
    "1.Mutual Exclusion: Each thread must hold exclusive access to a resource at some point, meaning that only one thread can access the resource at a time.\n",
    "\n",
    "2.Hold and Wait: A thread must already hold one resource and be waiting for another while preventing other threads from accessing its held resource.\n",
    "\n",
    "3.No Preemption: Resources cannot be forcibly taken away from a thread; they must be released voluntarily.\n",
    "\n",
    "4.Circular Wait: There must be a circular chain of two or more threads, each waiting for a resource held by the next one in the chain.\n",
    "\n",
    "Race Condition:\n",
    "\n",
    "A race condition is a situation where the behavior of a program depends on the relative timing of events, often when multiple threads or processes access shared data concurrently without proper synchronization. In a race condition, the outcome of the program becomes unpredictable because different threads may access and modify the shared data simultaneously. Race conditions typically involve the following key factors:\n",
    "\n",
    "1.Shared Data: Multiple threads or processes access and manipulate shared data or resources concurrently.\n",
    "\n",
    "2.Lack of Synchronization: There is no proper synchronization mechanism (e.g., locks, semaphores) in place to control access to the shared data.\n",
    "\n",
    "3.Timing Dependency: The outcome depends on the order and timing of thread execution."
   ]
  }
 ],
 "metadata": {
  "kernelspec": {
   "display_name": "Python 3 (ipykernel)",
   "language": "python",
   "name": "python3"
  },
  "language_info": {
   "codemirror_mode": {
    "name": "ipython",
    "version": 3
   },
   "file_extension": ".py",
   "mimetype": "text/x-python",
   "name": "python",
   "nbconvert_exporter": "python",
   "pygments_lexer": "ipython3",
   "version": "3.10.8"
  }
 },
 "nbformat": 4,
 "nbformat_minor": 5
}
